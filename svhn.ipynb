{
 "cells": [
  {
   "cell_type": "code",
   "execution_count": null,
   "id": "d0380a2f",
   "metadata": {},
   "outputs": [],
   "source": [
    "%load_ext autoreload\n",
    "%autoreload 2\n"
   ]
  },
  {
   "cell_type": "code",
   "execution_count": 16,
   "id": "e89e0eaa",
   "metadata": {},
   "outputs": [],
   "source": [
    "import importlib\n",
    "import rfm_q\n",
    "importlib.reload(rfm_q)  # Reload the updated module\n",
    "from rfm_q import q_rfm\n",
    "\n"
   ]
  },
  {
   "cell_type": "code",
   "execution_count": 17,
   "id": "2da1e6c3",
   "metadata": {},
   "outputs": [
    {
     "name": "stdout",
     "output_type": "stream",
     "text": [
      "[AerSimulator('aer_simulator'), AerSimulator('aer_simulator_statevector'), AerSimulator('aer_simulator_density_matrix'), AerSimulator('aer_simulator_stabilizer'), AerSimulator('aer_simulator_matrix_product_state'), AerSimulator('aer_simulator_extended_stabilizer'), AerSimulator('aer_simulator_unitary'), AerSimulator('aer_simulator_superop'), QasmSimulator('qasm_simulator'), StatevectorSimulator('statevector_simulator'), UnitarySimulator('unitary_simulator')]\n"
     ]
    }
   ],
   "source": [
    "from qiskit import QuantumCircuit\n",
    "from qiskit_aer import Aer\n",
    "print(Aer.backends())\n"
   ]
  },
  {
   "cell_type": "code",
   "execution_count": 18,
   "id": "778ae8ab",
   "metadata": {},
   "outputs": [],
   "source": [
    "import numpy as np\n",
    "import torch\n",
    "import torchvision\n",
    "import torchvision.transforms as transforms"
   ]
  },
  {
   "cell_type": "code",
   "execution_count": 19,
   "id": "3d805a7b",
   "metadata": {},
   "outputs": [],
   "source": [
    "# set data path\n",
    "def set_data_path():\n",
    "    return \"../data/\"\n",
    "#     raise NotImplementedError"
   ]
  },
  {
   "cell_type": "code",
   "execution_count": 20,
   "id": "9169089d",
   "metadata": {},
   "outputs": [],
   "source": [
    "def pre_process(torchset,n_samples,num_classes=10):\n",
    "    indices = list(np.random.choice(len(torchset),n_samples))\n",
    "\n",
    "    trainset = []\n",
    "    for ix in indices:\n",
    "        x,y = torchset[ix]\n",
    "        ohe_y = torch.zeros(num_classes)\n",
    "        ohe_y[y] = 1\n",
    "        trainset.append(((x/np.linalg.norm(x)).reshape(-1),ohe_y))\n",
    "    return trainset"
   ]
  },
  {
   "cell_type": "code",
   "execution_count": 21,
   "id": "777dbd11",
   "metadata": {},
   "outputs": [
    {
     "name": "stdout",
     "output_type": "stream",
     "text": [
      "Using downloaded and verified file: ../data/train_32x32.mat\n",
      "Using downloaded and verified file: ../data/test_32x32.mat\n"
     ]
    }
   ],
   "source": [
    "# load svhn data\n",
    "transform = transforms.Compose([\n",
    "    transforms.ToTensor()\n",
    "])\n",
    "\n",
    "data_path = set_data_path() ## set this data path\n",
    "\n",
    "trainset0 = torchvision.datasets.SVHN(root=data_path,\n",
    "                                    split = \"train\",\n",
    "                                    transform=transform,\n",
    "                                    download=True)\n",
    "testset0 = torchvision.datasets.SVHN(root=data_path,\n",
    "                                    split = \"test\",\n",
    "                                    transform=transform,\n",
    "                                    download=True)\n",
    "\n",
    "trainset = pre_process(trainset0,n_samples=5000, num_classes=10)\n",
    "train_loader = torch.utils.data.DataLoader(trainset, batch_size=128,\n",
    "                                          shuffle=True, num_workers=2)\n",
    "\n",
    "\n",
    "testset = pre_process(testset0,n_samples=5000, num_classes=10)\n",
    "test_loader = torch.utils.data.DataLoader(testset, batch_size=128,\n",
    "                                         shuffle=False, num_workers=2)\n",
    "\n"
   ]
  },
  {
   "cell_type": "code",
   "execution_count": 22,
   "id": "5e7f0612",
   "metadata": {},
   "outputs": [],
   "source": [
    "# # rfm import \n",
    "# from rfm import *"
   ]
  },
  {
   "cell_type": "code",
   "execution_count": 23,
   "id": "127833ad",
   "metadata": {},
   "outputs": [],
   "source": [
    "import importlib\n",
    "import rfm_q\n",
    "importlib.reload(rfm_q)\n",
    "from rfm_q import q_rfm\n"
   ]
  },
  {
   "cell_type": "code",
   "execution_count": 24,
   "id": "9bedd917",
   "metadata": {},
   "outputs": [
    {
     "name": "stdout",
     "output_type": "stream",
     "text": [
      "1.2.4\n"
     ]
    }
   ],
   "source": [
    "import qiskit\n",
    "\n",
    "print(qiskit.__version__)  # ✅ This works for Qiskit 1.0+\n"
   ]
  },
  {
   "cell_type": "code",
   "execution_count": 25,
   "id": "b0e597da",
   "metadata": {},
   "outputs": [
    {
     "name": "stdout",
     "output_type": "stream",
     "text": [
      "[DEBUG] Flattening images ...\n",
      "[DEBUG] Applying PCA to reduce dimension ...\n",
      "[DEBUG] Shapes after PCA -> torch.Size([5000, 8]) torch.Size([5000, 8])\n"
     ]
    },
    {
     "ename": "ModuleNotFoundError",
     "evalue": "No module named 'q_rfm'",
     "output_type": "error",
     "traceback": [
      "\u001b[0;31m---------------------------------------------------------------------------\u001b[0m",
      "\u001b[0;31mModuleNotFoundError\u001b[0m                       Traceback (most recent call last)",
      "Cell \u001b[0;32mIn[25], line 56\u001b[0m\n\u001b[1;32m     52\u001b[0m test_pca_loader  \u001b[38;5;241m=\u001b[39m torch\u001b[38;5;241m.\u001b[39mutils\u001b[38;5;241m.\u001b[39mdata\u001b[38;5;241m.\u001b[39mDataLoader(test_pca_dataset, batch_size\u001b[38;5;241m=\u001b[39m\u001b[38;5;241m128\u001b[39m,\n\u001b[1;32m     53\u001b[0m                                                shuffle\u001b[38;5;241m=\u001b[39m\u001b[38;5;28;01mFalse\u001b[39;00m, num_workers\u001b[38;5;241m=\u001b[39m\u001b[38;5;241m2\u001b[39m)\n\u001b[1;32m     55\u001b[0m \u001b[38;5;66;03m# 5) Now call q_rfm using these \"pca\" loaders\u001b[39;00m\n\u001b[0;32m---> 56\u001b[0m \u001b[38;5;28;01mfrom\u001b[39;00m \u001b[38;5;21;01mq_rfm\u001b[39;00m \u001b[38;5;28;01mimport\u001b[39;00m q_rfm\n\u001b[1;32m     57\u001b[0m M, mse \u001b[38;5;241m=\u001b[39m q_rfm(train_pca_loader, test_pca_loader, iters\u001b[38;5;241m=\u001b[39m\u001b[38;5;241m2\u001b[39m, loader\u001b[38;5;241m=\u001b[39m\u001b[38;5;28;01mTrue\u001b[39;00m, classif\u001b[38;5;241m=\u001b[39m\u001b[38;5;28;01mTrue\u001b[39;00m)\n\u001b[1;32m     59\u001b[0m M, _ \u001b[38;5;241m=\u001b[39m q_rfm(train_loader, test_loader, iters\u001b[38;5;241m=\u001b[39m\u001b[38;5;241m2\u001b[39m, loader\u001b[38;5;241m=\u001b[39m\u001b[38;5;28;01mTrue\u001b[39;00m, classif\u001b[38;5;241m=\u001b[39m\u001b[38;5;28;01mTrue\u001b[39;00m)\n",
      "\u001b[0;31mModuleNotFoundError\u001b[0m: No module named 'q_rfm'"
     ]
    }
   ],
   "source": [
    "\n",
    "# from rfm_q import q_rfm\n",
    "\n",
    "# from sklearn.decomposition import PCA\n",
    "\n",
    "# def reduce_dimensionality(X, n_components=8):\n",
    "#     \"\"\"\n",
    "#     Reduces dimensionality of X to n_components using PCA.\n",
    "#     X is a torch.Tensor with shape [n_samples, d].\n",
    "#     Returns a torch.Tensor of shape [n_samples, n_components].\n",
    "#     \"\"\"\n",
    "#     # Move from Torch to NumPy\n",
    "#     X_np = X.cpu().numpy()  # shape (N, d)\n",
    "    \n",
    "#     pca = PCA(n_components=n_components)\n",
    "#     X_reduced_np = pca.fit_transform(X_np)  # shape (N, n_components)\n",
    "\n",
    "#     # Convert back to Torch\n",
    "#     X_reduced = torch.from_numpy(X_reduced_np).float()\n",
    "#     return X_reduced\n",
    "\n",
    "\n",
    "# # -------------------------------------------------\n",
    "# #  BEFORE:\n",
    "# #     X_train, y_train = get_data(train_loader)\n",
    "# #     X_test, y_test   = get_data(test_loader)\n",
    "# # -------------------------------------------------\n",
    "\n",
    "# # 1) Get the raw data from loaders\n",
    "# X_train_raw, y_train = get_data(train_loader)\n",
    "# X_test_raw,  y_test  = get_data(test_loader)\n",
    "\n",
    "# # 2) Flatten from shape [N, 3, 32, 32] to [N, 3*32*32], if your data is still 4D\n",
    "# #    (If your data is already flattened, skip this step.)\n",
    "# print(\"[DEBUG] Flattening images ...\")\n",
    "# X_train_flat = X_train_raw.view(X_train_raw.shape[0], -1)  # shape [N, 3072]\n",
    "# X_test_flat  = X_test_raw.view(X_test_raw.shape[0], -1)    # shape [N, 3072]\n",
    "\n",
    "# # 3) PCA reduce from 3072 to a smaller dimension, e.g. 8\n",
    "# print(\"[DEBUG] Applying PCA to reduce dimension ...\")\n",
    "# X_train_pca = reduce_dimensionality(X_train_flat, n_components=8) \n",
    "# X_test_pca  = reduce_dimensionality(X_test_flat,  n_components=8)\n",
    "# print(\"[DEBUG] Shapes after PCA ->\",\n",
    "#       X_train_pca.shape, X_test_pca.shape)\n",
    "\n",
    "# # 4) Re-wrap these in DataLoaders or Tensors (depending on your design).\n",
    "# #    If you need DataLoaders, do:\n",
    "# train_pca_dataset = torch.utils.data.TensorDataset(X_train_pca, y_train)\n",
    "# test_pca_dataset  = torch.utils.data.TensorDataset(X_test_pca,  y_test)\n",
    "\n",
    "# train_pca_loader = torch.utils.data.DataLoader(train_pca_dataset, batch_size=128,\n",
    "#                                                shuffle=True, num_workers=2)\n",
    "# test_pca_loader  = torch.utils.data.DataLoader(test_pca_dataset, batch_size=128,\n",
    "#                                                shuffle=False, num_workers=2)\n",
    "\n",
    "# # 5) Now call q_rfm using these \"pca\" loaders\n",
    "# from rfm_q import q_rfm\n",
    "# M, mse = q_rfm(train_pca_loader, test_pca_loader, iters=2, loader=True, classif=True)\n",
    "\n",
    "# M, _ = q_rfm(train_loader, test_loader, iters=2, loader=True, classif=True)\n",
    "\n",
    "from rfm_q import q_rfm, get_data  # etc.\n",
    "\n",
    "# 1) Prepare the data as you did:\n",
    "X_train_raw, y_train = get_data(train_loader)\n",
    "X_test_raw,  y_test  = get_data(test_loader)\n",
    "\n",
    "# 2) Flatten if needed:\n",
    "X_train_flat = X_train_raw.view(X_train_raw.shape[0], -1)\n",
    "X_test_flat  = X_test_raw.view(X_test_raw.shape[0], -1)\n",
    "\n",
    "# 3) (Optionally) apply PCA from 3072 -> 8 dims:\n",
    "X_train_pca = reduce_dimensionality(X_train_flat, n_components=400)\n",
    "X_test_pca  = reduce_dimensionality(X_test_flat,  n_components=400)\n",
    "\n",
    "# 4) Re-wrap in DataLoader or keep as Tensors:\n",
    "train_pca_dataset = torch.utils.data.TensorDataset(X_train_pca, y_train)\n",
    "test_pca_dataset  = torch.utils.data.TensorDataset(X_test_pca,  y_test)\n",
    "\n",
    "train_pca_loader = torch.utils.data.DataLoader(train_pca_dataset, batch_size=128,\n",
    "                                               shuffle=True, num_workers=2)\n",
    "test_pca_loader  = torch.utils.data.DataLoader(test_pca_dataset, batch_size=128,\n",
    "                                               shuffle=False, num_workers=2)\n",
    "\n",
    "# 5) Finally call q_rfm:\n",
    "M, mse = q_rfm(\n",
    "    train_pca_loader, \n",
    "    test_pca_loader, \n",
    "    iters=2, \n",
    "    loader=True,\n",
    "    classif=True\n",
    ")"
   ]
  },
  {
   "cell_type": "markdown",
   "id": "ae02aed4",
   "metadata": {},
   "source": [
    "We have run three steps of RFM (the first iterate is the original laplace kernel), returning the M matrix of the final iterate."
   ]
  },
  {
   "cell_type": "code",
   "execution_count": 14,
   "id": "7a730cd9",
   "metadata": {},
   "outputs": [],
   "source": [
    "# visualize M matrix\n",
    "import matplotlib.pyplot as plt\n",
    "%matplotlib inline"
   ]
  },
  {
   "cell_type": "code",
   "execution_count": 15,
   "id": "66b0f905",
   "metadata": {},
   "outputs": [
    {
     "name": "stdout",
     "output_type": "stream",
     "text": [
      "\n"
     ]
    },
    {
     "data": {
      "image/png": "[encoded data removed]",
      "text/plain": [
       "<Figure size 1000x300 with 3 Axes>"
      ]
     },
     "metadata": {},
     "output_type": "display_data"
    }
   ],
   "source": [
    "f, axarr = plt.subplots(1,2,figsize=(10, 3))\n",
    "axarr[0].axes.xaxis.set_ticklabels([])\n",
    "axarr[0].axes.yaxis.set_ticklabels([])\n",
    "axarr[1].axes.xaxis.set_ticklabels([])\n",
    "axarr[1].axes.yaxis.set_ticklabels([])\n",
    "\n",
    "pcm = axarr[0].imshow(np.mean(np.diag(M).reshape(3,32,32),axis=0),cmap='cividis')\n",
    "axarr[0].set_title(\"M matrix diagonal\")\n",
    "f.colorbar(mappable=pcm, ax=axarr[0], shrink=0.8,location=\"left\")\n",
    "axarr[1].imshow(torch.moveaxis(trainset0[3][0],0,2))\n",
    "axarr[1].set_title(\"Sample Image\")\n",
    "print()"
   ]
  },
  {
   "cell_type": "markdown",
   "id": "1b8bb8a2",
   "metadata": {},
   "source": [
    "Here we plot the diagonal (averaged across channels) of the M matrix to see which coordinates are being highlighted by RFM. The center of the image is highlighted (where the digits appear). "
   ]
  },
  {
   "cell_type": "code",
   "execution_count": null,
   "id": "451d553b",
   "metadata": {},
   "outputs": [],
   "source": []
  }
 ],
 "metadata": {
  "kernelspec": {
   "display_name": "rfm_env",
   "language": "python",
   "name": "python3"
  },
  "language_info": {
   "codemirror_mode": {
    "name": "ipython",
    "version": 3
   },
   "file_extension": ".py",
   "mimetype": "text/x-python",
   "name": "python",
   "nbconvert_exporter": "python",
   "pygments_lexer": "ipython3",
   "version": "3.8.19"
  }
 },
 "nbformat": 4,
 "nbformat_minor": 5
}
