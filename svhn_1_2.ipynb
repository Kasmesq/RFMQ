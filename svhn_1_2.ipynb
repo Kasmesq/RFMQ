{
 "cells": [
  {
   "cell_type": "code",
   "execution_count": 52,
   "id": "d0380a2f",
   "metadata": {},
   "outputs": [
    {
     "name": "stdout",
     "output_type": "stream",
     "text": [
      "The autoreload extension is already loaded. To reload it, use:\n",
      "  %reload_ext autoreload\n"
     ]
    }
   ],
   "source": [
    "%load_ext autoreload\n",
    "%autoreload 2"
   ]
  },
  {
   "cell_type": "code",
   "execution_count": 53,
   "id": "e89e0eaa",
   "metadata": {},
   "outputs": [],
   "source": [
    "import importlib\n",
    "import rfm_q\n",
    "importlib.reload(rfm_q)  # Reload the updated module\n",
    "from rfm_q import q_rfm\n",
    "\n"
   ]
  },
  {
   "cell_type": "code",
   "execution_count": null,
   "id": "2da1e6c3",
   "metadata": {},
   "outputs": [
    {
     "name": "stdout",
     "output_type": "stream",
     "text": [
      "[AerSimulator('aer_simulator'), AerSimulator('aer_simulator_statevector'), AerSimulator('aer_simulator_density_matrix'), AerSimulator('aer_simulator_stabilizer'), AerSimulator('aer_simulator_matrix_product_state'), AerSimulator('aer_simulator_extended_stabilizer'), AerSimulator('aer_simulator_unitary'), AerSimulator('aer_simulator_superop'), QasmSimulator('qasm_simulator'), StatevectorSimulator('statevector_simulator'), UnitarySimulator('unitary_simulator')]\n"
     ]
    }
   ],
   "source": [
    "from qiskit import QuantumCircuit\n",
    "from qiskit_aer import Aer\n",
    "\n"
   ]
  },
  {
   "cell_type": "code",
   "execution_count": 55,
   "id": "778ae8ab",
   "metadata": {},
   "outputs": [],
   "source": [
    "import numpy as np\n",
    "import torch\n",
    "import torchvision\n",
    "import torchvision.transforms as transforms"
   ]
  },
  {
   "cell_type": "code",
   "execution_count": 56,
   "id": "3d805a7b",
   "metadata": {},
   "outputs": [],
   "source": [
    "# set data path\n",
    "def set_data_path():\n",
    "    return \"../data/\"\n",
    "#     raise NotImplementedError"
   ]
  },
  {
   "cell_type": "code",
   "execution_count": 57,
   "id": "9169089d",
   "metadata": {},
   "outputs": [],
   "source": [
    "def pre_process(torchset,n_samples,num_classes=10):\n",
    "    indices = list(np.random.choice(len(torchset),n_samples))\n",
    "\n",
    "    trainset = []\n",
    "    for ix in indices:\n",
    "        x,y = torchset[ix]\n",
    "        ohe_y = torch.zeros(num_classes)\n",
    "        ohe_y[y] = 1\n",
    "        trainset.append(((x/np.linalg.norm(x)).reshape(-1),ohe_y))\n",
    "    return trainset"
   ]
  },
  {
   "cell_type": "code",
   "execution_count": 58,
   "id": "777dbd11",
   "metadata": {},
   "outputs": [
    {
     "name": "stdout",
     "output_type": "stream",
     "text": [
      "Using downloaded and verified file: ../data/train_32x32.mat\n",
      "Using downloaded and verified file: ../data/test_32x32.mat\n"
     ]
    }
   ],
   "source": [
    "# load svhn data\n",
    "transform = transforms.Compose([\n",
    "    transforms.ToTensor()\n",
    "])\n",
    "\n",
    "data_path = set_data_path() ## set this data path\n",
    "\n",
    "trainset0 = torchvision.datasets.SVHN(root=data_path,\n",
    "                                    split = \"train\",\n",
    "                                    transform=transform,\n",
    "                                    download=True)\n",
    "testset0 = torchvision.datasets.SVHN(root=data_path,\n",
    "                                    split = \"test\",\n",
    "                                    transform=transform,\n",
    "                                    download=True)\n",
    "\n",
    "trainset = pre_process(trainset0,n_samples=5000, num_classes=10)\n",
    "train_loader = torch.utils.data.DataLoader(trainset, batch_size=128,\n",
    "                                          shuffle=True, num_workers=2)\n",
    "\n",
    "\n",
    "testset = pre_process(testset0,n_samples=5000, num_classes=10)\n",
    "test_loader = torch.utils.data.DataLoader(testset, batch_size=128,\n",
    "                                         shuffle=False, num_workers=2)\n",
    "\n"
   ]
  },
  {
   "cell_type": "code",
   "execution_count": 59,
   "id": "5e7f0612",
   "metadata": {},
   "outputs": [],
   "source": [
    "# rfm import \n",
    "from rfm import *"
   ]
  },
  {
   "cell_type": "code",
   "execution_count": 61,
   "id": "127833ad",
   "metadata": {},
   "outputs": [],
   "source": [
    "import importlib\n",
    "import rfm_q\n",
    "importlib.reload(rfm_q)\n",
    "from rfm_q import q_rfm\n"
   ]
  },
  {
   "cell_type": "code",
   "execution_count": 62,
   "id": "9bedd917",
   "metadata": {},
   "outputs": [],
   "source": [
    "import qiskit\n"
   ]
  },
  {
   "cell_type": "code",
   "execution_count": 116,
   "id": "26c245c3",
   "metadata": {},
   "outputs": [
    {
     "name": "stdout",
     "output_type": "stream",
     "text": [
      "(500, 16)\n",
      "(100, 16)\n"
     ]
    }
   ],
   "source": [
    "train_data = scipy.io.loadmat('/data/yi/recursive_feature_machines_1/example_notebooks/data/4x4MNIST_Train&Test/4x4MNIST_Train&Test/MNIST_Train_Nox16.mat')\n",
    "test_data = scipy.io.loadmat('/data/yi/recursive_feature_machines_1/example_notebooks/data/4x4MNIST_Train&Test/4x4MNIST_Train&Test/MNIST_Test_Nox16.mat')\n",
    "\n",
    "X_train = train_data['VV'][:500]\n",
    "X_test = test_data['UU'][:100]\n",
    "\n",
    "print(X_train.shape)\n",
    "print(X_test.shape)"
   ]
  },
  {
   "cell_type": "code",
   "execution_count": 117,
   "id": "75b26f81",
   "metadata": {},
   "outputs": [
    {
     "name": "stdout",
     "output_type": "stream",
     "text": [
      "(500, 10)\n",
      "(100, 10)\n"
     ]
    }
   ],
   "source": [
    "import csv\n",
    "\n",
    "# Initialize an empty list to store the first column values.\n",
    "y_train = []\n",
    "y_test = []\n",
    "# Specify your CSV file path.\n",
    "csv_file_path1 = '/data/yi/recursive_feature_machines_1/example_notebooks/data/4x4MNIST_Train&Test/mnist_train.csv'\n",
    "csv_file_path2 = '/data/yi/recursive_feature_machines_1/example_notebooks/data/4x4MNIST_Train&Test/mnist_test.csv'\n",
    "# Open the CSV file in read mode.\n",
    "with open(csv_file_path1, newline='', encoding='utf-8') as csvfile:\n",
    "    csvreader = csv.reader(csvfile)\n",
    "    \n",
    "    # Iterate over each row in the CSV file.\n",
    "    for row in csvreader:\n",
    "        if row:  # Ensure the row is not empty.\n",
    "            # Append the first column (index 0) to the list.\n",
    "            y_train.append(int(row[0]))\n",
    "\n",
    "with open(csv_file_path2, newline='', encoding='utf-8') as csvfile:\n",
    "    csvreader = csv.reader(csvfile)\n",
    "    \n",
    "    # Iterate over each row in the CSV file.\n",
    "    for row in csvreader:\n",
    "        if row:  # Ensure the row is not empty.\n",
    "            # Append the first column (index 0) to the list.\n",
    "            y_test.append(int(row[0]))\n",
    "\n",
    "num_classes = 10\n",
    "y_train = np.eye(num_classes)[y_train[:500]]\n",
    "y_test = np.eye(num_classes)[y_test[:100]]\n",
    "# Final debug print showing all the data collected from the first column.\n",
    "print(y_train.shape)\n",
    "print(y_test.shape)"
   ]
  },
  {
   "cell_type": "code",
   "execution_count": null,
   "id": "5bc6a8c3",
   "metadata": {},
   "outputs": [
    {
     "name": "stdout",
     "output_type": "stream",
     "text": [
      "[DEBUG] Entered q_rfm function...\n",
      "[DEBUG] Initializing Aer backend...\n",
      "[DEBUG] Aer backend initialized successfully\n",
      "[DEBUG] Creating FidelityQuantumKernel...\n",
      "[DEBUG] FidelityQuantumKernel created successfully\n",
      "[DEBUG] Kernel Evaluation Success! Matrix shape: (10, 10)\n",
      "[DEBUG] Loaders provided\n",
      "[DEBUG] X_train shape: torch.Size([500, 16]), y_train shape: torch.Size([500, 10])\n",
      "[DEBUG] X_test shape: torch.Size([100, 16]), y_test shape: torch.Size([100, 10])\n",
      "[DEBUG] Iteration 1/2 started...\n",
      "[DEBUG] Computing K_train...\n",
      "[DEBUG] Evaluating Quantum Kernel...\n"
     ]
    }
   ],
   "source": [
    "# %% [code]\n",
    "import numpy as np\n",
    "import torch\n",
    "from torch.utils.data import TensorDataset, DataLoader\n",
    "import hickle\n",
    "from numpy.linalg import solve\n",
    "import time\n",
    "\n",
    "# Qiskit imports for the quantum kernel\n",
    "from qiskit.circuit.library import ZZFeatureMap\n",
    "from qiskit_aer import Aer\n",
    "from qiskit_machine_learning.kernels import FidelityQuantumKernel\n",
    "import os\n",
    "os.environ['OMP_NUM_THREADS'] = '60'\n",
    "\n",
    "# Dummy get_data function (assumes a DataLoader input)\n",
    "def get_data(loader):\n",
    "    X_list, y_list = [], []\n",
    "    for batch in loader:\n",
    "        inputs, labels = batch\n",
    "        X_list.append(inputs)\n",
    "        y_list.append(labels)\n",
    "    X = torch.cat(X_list, dim=0)\n",
    "    y = torch.cat(y_list, dim=0)\n",
    "    return X, y\n",
    "\n",
    "# The quantum kernel matrix helper function.\n",
    "def encode_features(X):\n",
    "    \"\"\"Scales each column of X to [0, 1] then multiplies by pi.\"\"\"\n",
    "    X = X.copy().astype(np.float64)  # ensure float type\n",
    "    for j in range(X.shape[1]):\n",
    "        col_min = X[:, j].min()\n",
    "        col_max = X[:, j].max()\n",
    "        if abs(col_max - col_min) < 1e-12:\n",
    "            X[:, j] = 0.0\n",
    "        else:\n",
    "            X[:, j] = (X[:, j] - col_min) / (col_max - col_min)\n",
    "    X *= np.pi\n",
    "    return X\n",
    "\n",
    "def quantum_kernel_matrix(X1, X2, q_kernel, M=None, do_encode=True):\n",
    "    \"\"\"\n",
    "    Evaluates the quantum kernel matrix for inputs X1 and X2.\n",
    "    Applies optional encoding and a linear transformation via M.\n",
    "    \"\"\"\n",
    "    if isinstance(X1, torch.Tensor):\n",
    "        X1 = X1.cpu().numpy()\n",
    "    if isinstance(X2, torch.Tensor):\n",
    "        X2 = X2.cpu().numpy()\n",
    "\n",
    "    if do_encode:\n",
    "        X1 = encode_features(X1)\n",
    "        X2 = encode_features(X2)\n",
    "\n",
    "    if M is not None:\n",
    "        sqrtM = np.real_if_close(np.linalg.cholesky(M))\n",
    "        X1 = X1 @ sqrtM\n",
    "        X2 = X2 @ sqrtM\n",
    "\n",
    "    print(\"[DEBUG] Evaluating Quantum Kernel...\")\n",
    "    start_time = time.time()\n",
    "    K = q_kernel.evaluate(x_vec=X1, y_vec=X2)\n",
    "    end_time = time.time()\n",
    "    print(f\"[DEBUG] Kernel evaluated: shape {K.shape}, time {end_time - start_time:.2f} s\")\n",
    "    return K\n",
    "\n",
    "def quantum_laplacian_M(samples, centers, bandwidth, M, q_kernel, do_encode=True):\n",
    "    \"\"\"\n",
    "    Computes a Laplacian-style quantum kernel matrix.\n",
    "    \"\"\"\n",
    "    assert bandwidth > 0, \"Bandwidth must be > 0.\"\n",
    "    print(\"[DEBUG] Evaluating quantum kernel fidelity matrix...\")\n",
    "    kernel_mat = quantum_kernel_matrix(samples, centers, q_kernel, M=M, do_encode=do_encode)\n",
    "    quantum_distance = 1 - kernel_mat\n",
    "    quantum_distance = np.maximum(quantum_distance, 0)\n",
    "    print(\"[DEBUG] Quantum distance matrix computed (1 - fidelity).\")\n",
    "    gamma = 1.0 / bandwidth\n",
    "    print(f\"[DEBUG] Applying Laplacian transformation with gamma = {gamma:.4f}...\")\n",
    "    laplacian_kernel = np.exp(-gamma * quantum_distance)\n",
    "    print(\"[DEBUG] Laplacian quantum kernel matrix computed.\")\n",
    "    return laplacian_kernel\n",
    "\n",
    "def q_rfm(train_loader, test_loader,\n",
    "          iters=3, name=None, batch_size=2, reg=1e-3,\n",
    "          train_acc=False, loader=True, classif=True):\n",
    "    print(\"[DEBUG] Entered q_rfm function...\")\n",
    "    \"\"\"\n",
    "    Quantum version of the Recursive Feature Machine.\n",
    "    \"\"\"\n",
    "    # Use dummy training data to set the feature dimension\n",
    "    X_train_dummy, _ = get_data(train_loader) if loader else train_loader\n",
    "    feature_dim = X_train_dummy.shape[1]\n",
    "    feature_map = ZZFeatureMap(feature_dimension=feature_dim, reps=1, entanglement=\"full\")\n",
    "    print(\"[DEBUG] Initializing Aer backend...\")\n",
    "    backend = AerSimulator(method='statevector', max_parallel_threads=60)\n",
    "    print(\"[DEBUG] Aer backend initialized successfully\")\n",
    "    \n",
    "    print(\"[DEBUG] Creating FidelityQuantumKernel...\")\n",
    "    q_kernel = FidelityQuantumKernel(feature_map=feature_map)\n",
    "    print(\"[DEBUG] FidelityQuantumKernel created successfully\")\n",
    "    \n",
    "    # Quick test kernel evaluation with small random data\n",
    "    X_test_eval = np.random.rand(10, feature_dim)\n",
    "    K_test_eval = q_kernel.evaluate(x_vec=X_test_eval, y_vec=X_test_eval)\n",
    "    print(\"[DEBUG] Kernel Evaluation Success! Matrix shape:\", K_test_eval.shape)\n",
    "    \n",
    "    L = 10\n",
    "\n",
    "    if loader:\n",
    "        print(\"[DEBUG] Loaders provided\")\n",
    "        X_train, y_train = get_data(train_loader)\n",
    "        X_test, y_test = get_data(test_loader)\n",
    "    else:\n",
    "        print(\"[DEBUG] Loaders not used, loading manually\")\n",
    "        X_train, y_train = train_loader\n",
    "        X_test, y_test = test_loader\n",
    "        X_train = torch.from_numpy(X_train).float()\n",
    "        X_test = torch.from_numpy(X_test).float()\n",
    "        y_train = torch.from_numpy(y_train).float()\n",
    "        y_test = torch.from_numpy(y_test).float()\n",
    "    \n",
    "    print(f\"[DEBUG] X_train shape: {X_train.shape}, y_train shape: {y_train.shape}\")\n",
    "    print(f\"[DEBUG] X_test shape: {X_test.shape}, y_test shape: {y_test.shape}\")\n",
    "    \n",
    "    feature_dim = X_train.shape[1]\n",
    "    feature_map.feature_dimension = feature_dim\n",
    "    \n",
    "    n, d = X_train.shape\n",
    "    # Start with an identity matrix M for the recursive update.\n",
    "    M = np.eye(d, dtype='float32')\n",
    "    \n",
    "    for i in range(iters):\n",
    "        print(f\"[DEBUG] Iteration {i+1}/{iters} started...\")\n",
    "        print(\"[DEBUG] Computing K_train...\")\n",
    "        K_train = quantum_kernel_matrix(X_train, X_train, q_kernel)\n",
    "        print(f\"[DEBUG] K_train computed, shape: {K_train.shape}\")\n",
    "        sol = solve(K_train + reg * np.eye(len(K_train)), y_train.numpy()).T\n",
    "        \n",
    "        if train_acc:\n",
    "            preds = (sol @ K_train).T\n",
    "            y_pred = torch.from_numpy(preds)\n",
    "            preds_class = torch.argmax(y_pred, dim=-1)\n",
    "            labels = torch.argmax(y_train, dim=-1)\n",
    "            count = torch.sum(labels == preds_class).numpy()\n",
    "            print(\"Round \" + str(i) + \" Train Acc: \", count / len(labels))\n",
    "        \n",
    "        K_test = quantum_kernel_matrix(X_train, X_test, q_kernel)\n",
    "        preds = (sol @ K_test).T\n",
    "        mse = np.mean(np.square(preds - y_test.numpy()))\n",
    "        print(\"Round \" + str(i) + \" MSE: \", mse)\n",
    "        \n",
    "        if classif:\n",
    "            y_pred = torch.from_numpy(preds)\n",
    "            preds_class = torch.argmax(y_pred, dim=-1)\n",
    "            labels = torch.argmax(y_test, dim=-1)\n",
    "            count = torch.sum(labels == preds_class).numpy()\n",
    "            print(\"Round \" + str(i) + \" Acc: \", count / len(labels))\n",
    "        \n",
    "        print(\"[DEBUG] Calling get_grads... (skipped in this dummy demo)\")\n",
    "        # For demonstration, we'll skip the recursive update.\n",
    "        # M = get_grads(X_train, sol, L, torch.from_numpy(M), q_kernel, batch_size=batch_size)\n",
    "        print(\"[DEBUG] get_grads skipped\")\n",
    "    \n",
    "    K_train = quantum_kernel_matrix(X_train, X_train, q_kernel)\n",
    "    print(\"[DEBUG] Solving system of equations...\")\n",
    "    sol = solve(K_train + reg * np.eye(len(K_train)), y_train.numpy()).T\n",
    "    print(\"[DEBUG] System solved\")\n",
    "    K_test = quantum_kernel_matrix(X_train, X_test, q_kernel)\n",
    "    preds = (sol @ K_test).T\n",
    "    mse = np.mean(np.square(preds - y_test.numpy()))\n",
    "    print(\"Final MSE: \", mse)\n",
    "    \n",
    "    if classif:\n",
    "        y_pred = torch.from_numpy(preds)\n",
    "        preds_class = torch.argmax(y_pred, dim=-1)\n",
    "        labels = torch.argmax(y_test, dim=-1)\n",
    "        count = torch.sum(labels == preds_class).numpy()\n",
    "        print(\"Final Acc: \", count / len(labels))\n",
    "    return M, mse\n",
    "\n",
    "# -------------------------------\n",
    "# Create Dummy Data for Classification\n",
    "# -------------------------------\n",
    "\n",
    "# Settings for dummy data:\n",
    "num_train = 100\n",
    "num_test = 20\n",
    "num_features = 8\n",
    "num_classes = 3\n",
    "\n",
    "# # Random input features\n",
    "# X_train_dummy = np.random.rand(num_train, num_features).astype(np.float32)\n",
    "# X_test_dummy = np.random.rand(num_test, num_features).astype(np.float32)\n",
    "\n",
    "# # Random labels: one-hot encoded for 3 classes.\n",
    "# y_train_dummy = np.eye(num_classes)[np.random.randint(0, num_classes, size=num_train)]\n",
    "# y_test_dummy = np.eye(num_classes)[np.random.randint(0, num_classes, size=num_test)]\n",
    "\n",
    "# Convert to torch tensors.\n",
    "X_train_tensor = torch.tensor(X_train, dtype=torch.float32)\n",
    "y_train_tensor = torch.tensor(y_train, dtype=torch.float32)\n",
    "X_test_tensor = torch.tensor(X_test, dtype=torch.float32)\n",
    "y_test_tensor = torch.tensor(y_test, dtype=torch.float32)\n",
    "\n",
    "# Create DataLoaders.\n",
    "batch_size = 16\n",
    "train_dataset = TensorDataset(X_train_tensor, y_train_tensor)\n",
    "test_dataset = TensorDataset(X_test_tensor, y_test_tensor)\n",
    "train_loader = DataLoader(train_dataset, batch_size=batch_size, shuffle=True)\n",
    "test_loader = DataLoader(test_dataset, batch_size=batch_size, shuffle=False)\n",
    "\n",
    "# Run q_rfm on dummy data to test MSE and accuracy.\n",
    "M_final, mse_final = q_rfm(train_loader, test_loader, iters=2, loader=True, classif=True, train_acc=True)\n",
    "print(\"Final MSE from q_rfm on 4x4 data:\", mse_final)\n"
   ]
  },
  {
   "cell_type": "markdown",
   "id": "ae02aed4",
   "metadata": {},
   "source": [
    "We have run three steps of RFM (the first iterate is the original laplace kernel), returning the M matrix of the final iterate."
   ]
  },
  {
   "cell_type": "code",
   "execution_count": 43,
   "id": "7a730cd9",
   "metadata": {},
   "outputs": [],
   "source": [
    "# visualize M matrix\n",
    "import matplotlib.pyplot as plt\n",
    "%matplotlib inline"
   ]
  },
  {
   "cell_type": "code",
   "execution_count": 44,
   "id": "66b0f905",
   "metadata": {},
   "outputs": [
    {
     "name": "stdout",
     "output_type": "stream",
     "text": [
      "\n"
     ]
    },
    {
     "data": {
      "image/png": "[encoded data removed]",
      "text/plain": [
       "<Figure size 1000x300 with 3 Axes>"
      ]
     },
     "metadata": {},
     "output_type": "display_data"
    }
   ],
   "source": [
    "f, axarr = plt.subplots(1,2,figsize=(10, 3))\n",
    "axarr[0].axes.xaxis.set_ticklabels([])\n",
    "axarr[0].axes.yaxis.set_ticklabels([])\n",
    "axarr[1].axes.xaxis.set_ticklabels([])\n",
    "axarr[1].axes.yaxis.set_ticklabels([])\n",
    "\n",
    "pcm = axarr[0].imshow(np.mean(np.diag(M).reshape(3,32,32),axis=0),cmap='cividis')\n",
    "axarr[0].set_title(\"M matrix diagonal\")\n",
    "f.colorbar(mappable=pcm, ax=axarr[0], shrink=0.8,location=\"left\")\n",
    "axarr[1].imshow(torch.moveaxis(trainset0[3][0],0,2))\n",
    "axarr[1].set_title(\"Sample Image\")\n",
    "print()"
   ]
  },
  {
   "cell_type": "markdown",
   "id": "1b8bb8a2",
   "metadata": {},
   "source": [
    "Here we plot the diagonal (averaged across channels) of the M matrix to see which coordinates are being highlighted by RFM. The center of the image is highlighted (where the digits appear). "
   ]
  },
  {
   "cell_type": "code",
   "execution_count": null,
   "id": "451d553b",
   "metadata": {},
   "outputs": [],
   "source": []
  }
 ],
 "metadata": {
  "kernelspec": {
   "display_name": "rfm_env",
   "language": "python",
   "name": "python3"
  },
  "language_info": {
   "codemirror_mode": {
    "name": "ipython",
    "version": 3
   },
   "file_extension": ".py",
   "mimetype": "text/x-python",
   "name": "python",
   "nbconvert_exporter": "python",
   "pygments_lexer": "ipython3",
   "version": "3.8.19"
  }
 },
 "nbformat": 4,
 "nbformat_minor": 5
}
